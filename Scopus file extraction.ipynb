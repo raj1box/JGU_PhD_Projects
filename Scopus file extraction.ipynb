{
  "nbformat": 4,
  "nbformat_minor": 0,
  "metadata": {
    "colab": {
      "name": "Extract_Page_PDF.ipynb",
      "provenance": [],
      "collapsed_sections": [],
      "authorship_tag": "ABX9TyO1B1zSdK348KacHFY0whcI",
      "include_colab_link": true
    },
    "kernelspec": {
      "name": "python3",
      "display_name": "Python 3"
    },
    "language_info": {
      "name": "python"
    }
  },
  "cells": [
    {
      "cell_type": "markdown",
      "metadata": {
        "id": "view-in-github",
        "colab_type": "text"
      },
      "source": [
        "<a href=\"https://colab.research.google.com/github/raj1box/JGU_PhD_Projects/blob/master/Scopus%20file%20extraction.ipynb\" target=\"_parent\"><img src=\"https://colab.research.google.com/assets/colab-badge.svg\" alt=\"Open In Colab\"/></a>"
      ]
    },
    {
      "cell_type": "code",
      "metadata": {
        "colab": {
          "base_uri": "https://localhost:8080/"
        },
        "id": "5nRkjhVeHr_h",
        "outputId": "5102411e-a9c7-4525-b295-b012a3227f14"
      },
      "source": [
        "pip install PyPDF2"
      ],
      "execution_count": 4,
      "outputs": [
        {
          "output_type": "stream",
          "text": [
            "Collecting PyPDF2\n",
            "\u001b[?25l  Downloading https://files.pythonhosted.org/packages/b4/01/68fcc0d43daf4c6bdbc6b33cc3f77bda531c86b174cac56ef0ffdb96faab/PyPDF2-1.26.0.tar.gz (77kB)\n",
            "\r\u001b[K     |████▎                           | 10kB 13.3MB/s eta 0:00:01\r\u001b[K     |████████▌                       | 20kB 18.5MB/s eta 0:00:01\r\u001b[K     |████████████▊                   | 30kB 16.4MB/s eta 0:00:01\r\u001b[K     |█████████████████               | 40kB 11.8MB/s eta 0:00:01\r\u001b[K     |█████████████████████▏          | 51kB 8.4MB/s eta 0:00:01\r\u001b[K     |█████████████████████████▍      | 61kB 8.8MB/s eta 0:00:01\r\u001b[K     |█████████████████████████████▋  | 71kB 7.8MB/s eta 0:00:01\r\u001b[K     |████████████████████████████████| 81kB 4.4MB/s \n",
            "\u001b[?25hBuilding wheels for collected packages: PyPDF2\n",
            "  Building wheel for PyPDF2 (setup.py) ... \u001b[?25l\u001b[?25hdone\n",
            "  Created wheel for PyPDF2: filename=PyPDF2-1.26.0-cp37-none-any.whl size=61085 sha256=8e4a4fd8239bb2fad48765634d920b276691e3db3cd865d5564c7296346f13fe\n",
            "  Stored in directory: /root/.cache/pip/wheels/53/84/19/35bc977c8bf5f0c23a8a011aa958acd4da4bbd7a229315c1b7\n",
            "Successfully built PyPDF2\n",
            "Installing collected packages: PyPDF2\n",
            "Successfully installed PyPDF2-1.26.0\n"
          ],
          "name": "stdout"
        }
      ]
    },
    {
      "cell_type": "code",
      "metadata": {
        "colab": {
          "base_uri": "https://localhost:8080/"
        },
        "id": "jPqwiCZSK0Xo",
        "outputId": "e2fa4d8f-150e-4f77-9c57-884dc8911a2d"
      },
      "source": [
        "import PyPDF2\n",
        "pdfFileObj = open(r'/content/Test.pdf', 'rb')\n",
        "pdfReader = PyPDF2.PdfFileReader(pdfFileObj)\n",
        "pdfReader.numPages"
      ],
      "execution_count": 24,
      "outputs": [
        {
          "output_type": "execute_result",
          "data": {
            "text/plain": [
              "8"
            ]
          },
          "metadata": {
            "tags": []
          },
          "execution_count": 24
        }
      ]
    },
    {
      "cell_type": "code",
      "metadata": {
        "colab": {
          "base_uri": "https://localhost:8080/",
          "height": 35
        },
        "id": "eyIPF7PlLVe2",
        "outputId": "8e440042-20dd-43b0-ed7d-fa265e0d6d31"
      },
      "source": [
        "pageObj = pdfReader.getPage(7)\n",
        "pageObj.extractText()"
      ],
      "execution_count": 28,
      "outputs": [
        {
          "output_type": "execute_result",
          "data": {
            "application/vnd.google.colaboratory.intrinsic+json": {
              "type": "string"
            },
            "text/plain": [
              "''"
            ]
          },
          "metadata": {
            "tags": []
          },
          "execution_count": 28
        }
      ]
    },
    {
      "cell_type": "code",
      "metadata": {
        "colab": {
          "base_uri": "https://localhost:8080/"
        },
        "id": "4h47gW6TQuwd",
        "outputId": "bde0b88a-30d2-40a6-cc4b-f276e9f94b58"
      },
      "source": [
        "pip install tika"
      ],
      "execution_count": 21,
      "outputs": [
        {
          "output_type": "stream",
          "text": [
            "Collecting tika\n",
            "  Downloading https://files.pythonhosted.org/packages/96/07/244fbb9c74c0de8a3745cc9f3f496077a29f6418c7cbd90d68fd799574cb/tika-1.24.tar.gz\n",
            "Requirement already satisfied: setuptools in /usr/local/lib/python3.7/dist-packages (from tika) (54.2.0)\n",
            "Requirement already satisfied: requests in /usr/local/lib/python3.7/dist-packages (from tika) (2.23.0)\n",
            "Requirement already satisfied: chardet<4,>=3.0.2 in /usr/local/lib/python3.7/dist-packages (from requests->tika) (3.0.4)\n",
            "Requirement already satisfied: idna<3,>=2.5 in /usr/local/lib/python3.7/dist-packages (from requests->tika) (2.10)\n",
            "Requirement already satisfied: urllib3!=1.25.0,!=1.25.1,<1.26,>=1.21.1 in /usr/local/lib/python3.7/dist-packages (from requests->tika) (1.24.3)\n",
            "Requirement already satisfied: certifi>=2017.4.17 in /usr/local/lib/python3.7/dist-packages (from requests->tika) (2020.12.5)\n",
            "Building wheels for collected packages: tika\n",
            "  Building wheel for tika (setup.py) ... \u001b[?25l\u001b[?25hdone\n",
            "  Created wheel for tika: filename=tika-1.24-cp37-none-any.whl size=32885 sha256=07279dd91e8b58e36d817f3ccb5bb4809ad85cb93c8882f3d71f9b039a65a797\n",
            "  Stored in directory: /root/.cache/pip/wheels/73/9c/f5/0b1b738442fc2a2862bef95b908b374f8e80215550fb2a8975\n",
            "Successfully built tika\n",
            "Installing collected packages: tika\n",
            "Successfully installed tika-1.24\n"
          ],
          "name": "stdout"
        }
      ]
    },
    {
      "cell_type": "code",
      "metadata": {
        "colab": {
          "base_uri": "https://localhost:8080/"
        },
        "id": "kSH9qSmZQycd",
        "outputId": "bd418052-8148-4d6a-9b78-0eb7ed1e94ab"
      },
      "source": [
        "#Function to extract PDF to text from the directory\n",
        "from tika import parser\n",
        "import os\n",
        "\n",
        "\n",
        "def extract_text_from_pdfs_recursively(dir):\n",
        "    for root, dirs, files in os.walk(dir):\n",
        "        for file in files:\n",
        "            path_to_pdf = os.path.join(root, file)\n",
        "            [stem, ext] = os.path.splitext(path_to_pdf)\n",
        "            if ext == '.pdf':\n",
        "                print(\"Processing \" + path_to_pdf)\n",
        "                pdf_contents = parser.from_file(path_to_pdf)\n",
        "                path_to_txt = stem + '.txt'\n",
        "                with open(path_to_txt, 'w') as txt_file:\n",
        "                    print(\"Writing contents to \" + path_to_txt)\n",
        "                    txt_file.write(pdf_contents['content'])\n",
        "\n",
        "\n",
        "if __name__ == \"__main__\":\n",
        "    extract_text_from_pdfs_recursively(os.getcwd())"
      ],
      "execution_count": 22,
      "outputs": [
        {
          "output_type": "stream",
          "text": [
            "2021-04-17 09:57:35,402 [MainThread  ] [INFO ]  Retrieving http://search.maven.org/remotecontent?filepath=org/apache/tika/tika-server/1.24/tika-server-1.24.jar to /tmp/tika-server.jar.\n"
          ],
          "name": "stderr"
        },
        {
          "output_type": "stream",
          "text": [
            "Processing /content/Test.pdf\n"
          ],
          "name": "stdout"
        },
        {
          "output_type": "stream",
          "text": [
            "2021-04-17 09:57:36,190 [MainThread  ] [INFO ]  Retrieving http://search.maven.org/remotecontent?filepath=org/apache/tika/tika-server/1.24/tika-server-1.24.jar.md5 to /tmp/tika-server.jar.md5.\n",
            "2021-04-17 09:57:36,634 [MainThread  ] [WARNI]  Failed to see startup log message; retrying...\n"
          ],
          "name": "stderr"
        },
        {
          "output_type": "stream",
          "text": [
            "Writing contents to /content/Test.txt\n"
          ],
          "name": "stdout"
        }
      ]
    },
    {
      "cell_type": "code",
      "metadata": {
        "colab": {
          "base_uri": "https://localhost:8080/"
        },
        "id": "7NYExQ7RQ6A9",
        "outputId": "8f8e279f-a082-405a-e8dd-00b7ca340142"
      },
      "source": [
        "pip install minecraft\n"
      ],
      "execution_count": 30,
      "outputs": [
        {
          "output_type": "stream",
          "text": [
            "Collecting minecraft\n",
            "  Downloading https://files.pythonhosted.org/packages/51/54/1fca8285fad3028685b2aab8c27604fb1e6af0dd2d592543d2d2852a4289/minecraft-0.1.1.tar.gz\n",
            "\u001b[31mERROR: Command errored out with exit status 1: python setup.py egg_info Check the logs for full command output.\u001b[0m\n"
          ],
          "name": "stdout"
        }
      ]
    },
    {
      "cell_type": "code",
      "metadata": {
        "id": "TMkFq40XV9Iq"
      },
      "source": [
        "import pprint\n",
        "import PyPDF2"
      ],
      "execution_count": 33,
      "outputs": []
    },
    {
      "cell_type": "code",
      "metadata": {
        "id": "5k3sQ-keYSA-"
      },
      "source": [
        "def get_doc_info(file_name):\n",
        "  pp = pprint.PrettyPrinter(indent=4)\n",
        "  pdf_file=PyPDF2.PdfFileReader(file_name,'rb')\n",
        "  doc_info = pdf_file.getDocumentInfo()\n",
        "  pp.pprint(doc_info)"
      ],
      "execution_count": 35,
      "outputs": []
    },
    {
      "cell_type": "code",
      "metadata": {
        "colab": {
          "base_uri": "https://localhost:8080/"
        },
        "id": "Vw80ZSFxYvCG",
        "outputId": "6cc6a15b-8dba-4d51-f032-cb21c9be2079"
      },
      "source": [
        "get_doc_info(\"Test.pdf\")"
      ],
      "execution_count": 36,
      "outputs": [
        {
          "output_type": "stream",
          "text": [
            "{   '/CreationDate': \"D:20200526002017-04'00'\",\n",
            "    '/ModDate': \"D:20210417133618+08'00'\",\n",
            "    '/Producer': 'iText® 5.3.4-SNAPSHOT ©2000-2012 1T3XT BVBA (AGPL-version)'}\n"
          ],
          "name": "stdout"
        }
      ]
    },
    {
      "cell_type": "code",
      "metadata": {
        "id": "OHOWbOgoY7Hm"
      },
      "source": [
        "def get_info_obj(file_path):\n",
        "  with open(file_path,'rb') as raw_file:\n",
        "    read_file = raw_file.read()\n",
        "    info_ref_tuple = get_info_ref(file_path) #Need to validate get_info_ref\n",
        "    info_obj_dict = {}\n",
        "    for ref in info_ref_tuple[1]:\n",
        "      info_ref = ref.decode()\n",
        "      info_ref = info_ref.replace('/Info','') \\\n",
        "                         .replace('R','')\n",
        "      info_ref = str.encode(info_ref)\n",
        "      regex = b'[^0-9]' + info_ref + b'[]obj.*?endobj'\n",
        "      pattern = re.compile(regex, re.DOTALL)\n",
        "      info_obj = re.findall(pattern, read_file)\n",
        "      info_obj = de_dupe_list(info_obj)\n",
        "      if len(info_obj)>0:\n",
        "        for obj in info_obj:\n",
        "          info_obj_dic[ref] = obj\n",
        "    if len(info_obj_dict) == 0:\n",
        "      info_obj_exists = False\n",
        "    else:\n",
        "      info_obj_exists = True\n",
        "    return (info_obj_exists, info_obj_dict)"
      ],
      "execution_count": 45,
      "outputs": []
    },
    {
      "cell_type": "code",
      "metadata": {
        "id": "Ise4UQ8Q8dTM"
      },
      "source": [
        "obj = get_info_obj('/content/Test.pdf')[1]\n",
        "for i in obj:\n",
        "  print(i.decode())\n",
        "  print(obj[i].decode(), '\\n') # yet to test it..."
      ],
      "execution_count": null,
      "outputs": []
    },
    {
      "cell_type": "code",
      "metadata": {
        "colab": {
          "base_uri": "https://localhost:8080/",
          "height": 231
        },
        "id": "bdEBe2IC8elh",
        "outputId": "ebba5ed7-23a0-4d4c-a276-61dee26e9817"
      },
      "source": [
        "myCl = ElsClient('363d49c80080c27f56980ace583c61c4')\n",
        "myAuth.read(myCl)\n",
        "myCl.local_dir = \"/content/elaspy\"\n",
        "myDocSrch = ElsSearch('Artificial+Intelligence+Consumer+Behavior','scopus')\n",
        "#myDocSrch = ElsSearch('Artificial+Intelligence+Consumer+Behavior','scidir')\n",
        "myAuth = ElsAuthor(uri = 'http://api.elsevier.com/content/author/AUTHOR_ID/7202909704')\n",
        "#Document URL - e.g. http://api.elsevier.com/content/abstract/SCOPUS_ID/84872135457\n",
        "#Author profile - e.g. http://api.elsevier.com/content/author/AUTHOR_ID/7202909704\n",
        "#Affiliation profile - e.g. http://api.elsevier.com/content/affiliation/AFFILIATION_ID/60002573\n",
        "myAuth.read(myCl)\n",
        "myAuth.data\n",
        "myAuth.data.keys()\n",
        "myAuth.read_docs(myCl)\n",
        "myAuth.doc_list"
      ],
      "execution_count": 47,
      "outputs": [
        {
          "output_type": "error",
          "ename": "NameError",
          "evalue": "ignored",
          "traceback": [
            "\u001b[0;31m---------------------------------------------------------------------------\u001b[0m",
            "\u001b[0;31mNameError\u001b[0m                                 Traceback (most recent call last)",
            "\u001b[0;32m<ipython-input-47-218e1ba39f2e>\u001b[0m in \u001b[0;36m<module>\u001b[0;34m()\u001b[0m\n\u001b[0;32m----> 1\u001b[0;31m \u001b[0mmyCl\u001b[0m \u001b[0;34m=\u001b[0m \u001b[0mElsClient\u001b[0m\u001b[0;34m(\u001b[0m\u001b[0;34m'[my_api_key]'\u001b[0m\u001b[0;34m)\u001b[0m\u001b[0;34m\u001b[0m\u001b[0;34m\u001b[0m\u001b[0m\n\u001b[0m\u001b[1;32m      2\u001b[0m \u001b[0mmyAuth\u001b[0m\u001b[0;34m.\u001b[0m\u001b[0mread\u001b[0m\u001b[0;34m(\u001b[0m\u001b[0mmyCl\u001b[0m\u001b[0;34m)\u001b[0m\u001b[0;34m\u001b[0m\u001b[0;34m\u001b[0m\u001b[0m\n\u001b[1;32m      3\u001b[0m \u001b[0mmyCl\u001b[0m\u001b[0;34m.\u001b[0m\u001b[0mlocal_dir\u001b[0m \u001b[0;34m=\u001b[0m \u001b[0;34m\"/content/elaspy\"\u001b[0m\u001b[0;34m\u001b[0m\u001b[0;34m\u001b[0m\u001b[0m\n\u001b[1;32m      4\u001b[0m \u001b[0mmyDocSrch\u001b[0m \u001b[0;34m=\u001b[0m \u001b[0mElsSearch\u001b[0m\u001b[0;34m(\u001b[0m\u001b[0;34m'Artificial+Intelligence+Consumer+Behavior'\u001b[0m\u001b[0;34m,\u001b[0m\u001b[0;34m'scopus'\u001b[0m\u001b[0;34m)\u001b[0m\u001b[0;34m\u001b[0m\u001b[0;34m\u001b[0m\u001b[0m\n\u001b[1;32m      5\u001b[0m \u001b[0;31m#myDocSrch = ElsSearch('Artificial+Intelligence+Consumer+Behavior','scidir')\u001b[0m\u001b[0;34m\u001b[0m\u001b[0;34m\u001b[0m\u001b[0;34m\u001b[0m\u001b[0m\n",
            "\u001b[0;31mNameError\u001b[0m: name 'ElsClient' is not defined"
          ]
        }
      ]
    },
    {
      "cell_type": "code",
      "metadata": {
        "colab": {
          "base_uri": "https://localhost:8080/"
        },
        "id": "r_w4AR9R93uC",
        "outputId": "a56b6e4c-b2b3-475f-e1cb-9b167ded0fed"
      },
      "source": [
        "pip install elsapy"
      ],
      "execution_count": 49,
      "outputs": [
        {
          "output_type": "stream",
          "text": [
            "Collecting elsapy\n",
            "  Downloading https://files.pythonhosted.org/packages/d8/7b/934ef0e29ebc283d60ef9ae78c1f583ef5ca652144dc8215bba4de9d9fde/elsapy-0.5.0-py3-none-any.whl\n",
            "Requirement already satisfied: requests in /usr/local/lib/python3.7/dist-packages (from elsapy) (2.23.0)\n",
            "Requirement already satisfied: idna<3,>=2.5 in /usr/local/lib/python3.7/dist-packages (from requests->elsapy) (2.10)\n",
            "Requirement already satisfied: certifi>=2017.4.17 in /usr/local/lib/python3.7/dist-packages (from requests->elsapy) (2020.12.5)\n",
            "Requirement already satisfied: chardet<4,>=3.0.2 in /usr/local/lib/python3.7/dist-packages (from requests->elsapy) (3.0.4)\n",
            "Requirement already satisfied: urllib3!=1.25.0,!=1.25.1,<1.26,>=1.21.1 in /usr/local/lib/python3.7/dist-packages (from requests->elsapy) (1.24.3)\n",
            "Installing collected packages: elsapy\n",
            "Successfully installed elsapy-0.5.0\n"
          ],
          "name": "stdout"
        }
      ]
    },
    {
      "cell_type": "code",
      "metadata": {
        "colab": {
          "base_uri": "https://localhost:8080/",
          "height": 527
        },
        "id": "laiVui9I-hxQ",
        "outputId": "38681b86-8765-41c1-f506-ecf606b51b0c"
      },
      "source": [
        "\"\"\"An example program that uses the elsapy module\"\"\"\n",
        "\n",
        "from elsapy.elsclient import ElsClient\n",
        "from elsapy.elsprofile import ElsAuthor, ElsAffil\n",
        "from elsapy.elsdoc import FullDoc, AbsDoc\n",
        "from elsapy.elssearch import ElsSearch\n",
        "import json\n",
        "    \n",
        "## Load configuration\n",
        "con_file = open(r\"/content/config.json\")\n",
        "config = json.load(con_file)\n",
        "con_file.close()\n",
        "\n",
        "## Initialize client\n",
        "client = ElsClient(config['apikey'])\n",
        "#client.inst_token = config['insttoken']\n",
        "\n",
        "## Author example\n",
        "# Initialize author with uri\n",
        "my_auth = ElsAuthor(\n",
        "        uri = 'https://api.elsevier.com/content/author/author_id/7004367821')\n",
        "# Read author data, then write to disk\n",
        "if my_auth.read(client):\n",
        "    print (\"my_auth.full_name: \", my_auth.full_name)\n",
        "    my_auth.write()\n",
        "else:\n",
        "    print (\"Read author failed.\")\n",
        "\n",
        "## Affiliation example\n",
        "# Initialize affiliation with ID as string\n",
        "my_aff = ElsAffil(affil_id = '60101411')\n",
        "if my_aff.read(client):\n",
        "    print (\"my_aff.name: \", my_aff.name)\n",
        "    my_aff.write()\n",
        "else:\n",
        "    print (\"Read affiliation failed.\")\n",
        "\n",
        "## Scopus (Abtract) document example\n",
        "# Initialize document with ID as integer\n",
        "scp_doc = AbsDoc(scp_id = 84872135457)\n",
        "if scp_doc.read(client):\n",
        "    print (\"scp_doc.title: \", scp_doc.title)\n",
        "    scp_doc.write()   \n",
        "else:\n",
        "    print (\"Read document failed.\")\n",
        "\n",
        "## ScienceDirect (full-text) document example using PII\n",
        "pii_doc = FullDoc(sd_pii = 'S1674927814000082')\n",
        "if pii_doc.read(client):\n",
        "    print (\"pii_doc.title: \", pii_doc.title)\n",
        "    pii_doc.write()   \n",
        "else:\n",
        "    print (\"Read document failed.\")\n",
        "\n",
        "## ScienceDirect (full-text) document example using DOI\n",
        "doi_doc = FullDoc(doi = '10.1016/S1525-1578(10)60571-5')\n",
        "if doi_doc.read(client):\n",
        "    print (\"doi_doc.title: \", doi_doc.title)\n",
        "    doi_doc.write()   \n",
        "else:\n",
        "    print (\"Read document failed.\")\n",
        "\n",
        "\n",
        "## Load list of documents from the API into affilation and author objects.\n",
        "# Since a document list is retrieved for 25 entries at a time, this is\n",
        "#  a potentially lenghty operation - hence the prompt.\n",
        "print (\"Load documents (Y/N)?\")\n",
        "s = input('--> ')\n",
        "\n",
        "if (s == \"y\" or s == \"Y\"):\n",
        "\n",
        "    ## Read all documents for example author, then write to disk\n",
        "    if my_auth.read_docs(client):\n",
        "        print (\"my_auth.doc_list has \" + str(len(my_auth.doc_list)) + \" items.\")\n",
        "        my_auth.write_docs()\n",
        "    else:\n",
        "        print (\"Read docs for author failed.\")\n",
        "\n",
        "    ## Read all documents for example affiliation, then write to disk\n",
        "    if my_aff.read_docs(client):\n",
        "        print (\"my_aff.doc_list has \" + str(len(my_aff.doc_list)) + \" items.\")\n",
        "        my_aff.write_docs()\n",
        "    else:\n",
        "        print (\"Read docs for affiliation failed.\")\n",
        "\n",
        "## Initialize author search object and execute search\n",
        "#auth_srch = ElsSearch('authlast(keuskamp)','author')\n",
        "#auth_srch.execute(client)\n",
        "#print (\"auth_srch has\", len(auth_srch.results), \"results.\")\n",
        "\n",
        "## Initialize affiliation search object and execute search\n",
        "#aff_srch = ElsSearch('affil(amsterdam)','affiliation')\n",
        "#aff_srch.execute(client)\n",
        "#print (\"aff_srch has\", len(aff_srch.results), \"results.\")\n",
        "\n",
        "## Initialize doc search object using Scopus and execute search, retrieving \n",
        "#   all results\n",
        "#doc_srch = ElsSearch(\"AFFIL(dartmouth) AND AUTHOR-NAME(lewis) AND PUBYEAR > 2011\",'scopus')\n",
        "#doc_srch.execute(client, get_all = True)\n",
        "#print (\"doc_srch has\", len(doc_srch.results), \"results.\")\n",
        "\n",
        "## Initialize doc search object using ScienceDirect and execute search, \n",
        "#   retrieving all results\n",
        "doc_srch = ElsSearch(\"Artificial Intelligence and Consumer Behavior\",'sciencedirect')\n",
        "doc_srch.execute(client, get_all = False)\n",
        "print (\"doc_srch has\", len(doc_srch.results), \"results.\")"
      ],
      "execution_count": 52,
      "outputs": [
        {
          "output_type": "stream",
          "text": [
            "Read author failed.\n",
            "Read affiliation failed.\n",
            "scp_doc.title:  Control of somatic tissue differentiation by the long non-coding RNA TINCR\n",
            "pii_doc.title:  Establishing the fair allocation of international aviation carbon emission rights\n",
            "doi_doc.title:  Sensitive Sequencing Method for KRAS Mutation Detection by Pyrosequencing \n",
            "Load documents (Y/N)?\n",
            "--> Y\n",
            "Read docs for author failed.\n",
            "Read docs for affiliation failed.\n"
          ],
          "name": "stdout"
        },
        {
          "output_type": "error",
          "ename": "HTTPError",
          "evalue": "ignored",
          "traceback": [
            "\u001b[0;31m---------------------------------------------------------------------------\u001b[0m",
            "\u001b[0;31mHTTPError\u001b[0m                                 Traceback (most recent call last)",
            "\u001b[0;32m<ipython-input-52-4bd90d5660f3>\u001b[0m in \u001b[0;36m<module>\u001b[0;34m()\u001b[0m\n\u001b[1;32m     86\u001b[0m \u001b[0;31m## Initialize author search object and execute search\u001b[0m\u001b[0;34m\u001b[0m\u001b[0;34m\u001b[0m\u001b[0;34m\u001b[0m\u001b[0m\n\u001b[1;32m     87\u001b[0m \u001b[0mauth_srch\u001b[0m \u001b[0;34m=\u001b[0m \u001b[0mElsSearch\u001b[0m\u001b[0;34m(\u001b[0m\u001b[0;34m'authlast(keuskamp)'\u001b[0m\u001b[0;34m,\u001b[0m\u001b[0;34m'author'\u001b[0m\u001b[0;34m)\u001b[0m\u001b[0;34m\u001b[0m\u001b[0;34m\u001b[0m\u001b[0m\n\u001b[0;32m---> 88\u001b[0;31m \u001b[0mauth_srch\u001b[0m\u001b[0;34m.\u001b[0m\u001b[0mexecute\u001b[0m\u001b[0;34m(\u001b[0m\u001b[0mclient\u001b[0m\u001b[0;34m)\u001b[0m\u001b[0;34m\u001b[0m\u001b[0;34m\u001b[0m\u001b[0m\n\u001b[0m\u001b[1;32m     89\u001b[0m \u001b[0mprint\u001b[0m \u001b[0;34m(\u001b[0m\u001b[0;34m\"auth_srch has\"\u001b[0m\u001b[0;34m,\u001b[0m \u001b[0mlen\u001b[0m\u001b[0;34m(\u001b[0m\u001b[0mauth_srch\u001b[0m\u001b[0;34m.\u001b[0m\u001b[0mresults\u001b[0m\u001b[0;34m)\u001b[0m\u001b[0;34m,\u001b[0m \u001b[0;34m\"results.\"\u001b[0m\u001b[0;34m)\u001b[0m\u001b[0;34m\u001b[0m\u001b[0;34m\u001b[0m\u001b[0m\n\u001b[1;32m     90\u001b[0m \u001b[0;34m\u001b[0m\u001b[0m\n",
            "\u001b[0;32m/usr/local/lib/python3.7/dist-packages/elsapy/elssearch.py\u001b[0m in \u001b[0;36mexecute\u001b[0;34m(self, els_client, get_all)\u001b[0m\n\u001b[1;32m     93\u001b[0m             all results for the search, up to a maximum of 5,000.\"\"\"\n\u001b[1;32m     94\u001b[0m         \u001b[0;31m## TODO: add exception handling\u001b[0m\u001b[0;34m\u001b[0m\u001b[0;34m\u001b[0m\u001b[0;34m\u001b[0m\u001b[0m\n\u001b[0;32m---> 95\u001b[0;31m         \u001b[0mapi_response\u001b[0m \u001b[0;34m=\u001b[0m \u001b[0mels_client\u001b[0m\u001b[0;34m.\u001b[0m\u001b[0mexec_request\u001b[0m\u001b[0;34m(\u001b[0m\u001b[0mself\u001b[0m\u001b[0;34m.\u001b[0m\u001b[0m_uri\u001b[0m\u001b[0;34m)\u001b[0m\u001b[0;34m\u001b[0m\u001b[0;34m\u001b[0m\u001b[0m\n\u001b[0m\u001b[1;32m     96\u001b[0m         \u001b[0mself\u001b[0m\u001b[0;34m.\u001b[0m\u001b[0m_tot_num_res\u001b[0m \u001b[0;34m=\u001b[0m \u001b[0mint\u001b[0m\u001b[0;34m(\u001b[0m\u001b[0mapi_response\u001b[0m\u001b[0;34m[\u001b[0m\u001b[0;34m'search-results'\u001b[0m\u001b[0;34m]\u001b[0m\u001b[0;34m[\u001b[0m\u001b[0;34m'opensearch:totalResults'\u001b[0m\u001b[0;34m]\u001b[0m\u001b[0;34m)\u001b[0m\u001b[0;34m\u001b[0m\u001b[0;34m\u001b[0m\u001b[0m\n\u001b[1;32m     97\u001b[0m         \u001b[0mself\u001b[0m\u001b[0;34m.\u001b[0m\u001b[0m_results\u001b[0m \u001b[0;34m=\u001b[0m \u001b[0mapi_response\u001b[0m\u001b[0;34m[\u001b[0m\u001b[0;34m'search-results'\u001b[0m\u001b[0;34m]\u001b[0m\u001b[0;34m[\u001b[0m\u001b[0;34m'entry'\u001b[0m\u001b[0;34m]\u001b[0m\u001b[0;34m\u001b[0m\u001b[0;34m\u001b[0m\u001b[0m\n",
            "\u001b[0;32m/usr/local/lib/python3.7/dist-packages/elsapy/elsclient.py\u001b[0m in \u001b[0;36mexec_request\u001b[0;34m(self, URL)\u001b[0m\n\u001b[1;32m    119\u001b[0m         \u001b[0;32melse\u001b[0m\u001b[0;34m:\u001b[0m\u001b[0;34m\u001b[0m\u001b[0;34m\u001b[0m\u001b[0m\n\u001b[1;32m    120\u001b[0m             \u001b[0mself\u001b[0m\u001b[0;34m.\u001b[0m\u001b[0m_status_msg\u001b[0m\u001b[0;34m=\u001b[0m\u001b[0;34m\"HTTP \"\u001b[0m \u001b[0;34m+\u001b[0m \u001b[0mstr\u001b[0m\u001b[0;34m(\u001b[0m\u001b[0mr\u001b[0m\u001b[0;34m.\u001b[0m\u001b[0mstatus_code\u001b[0m\u001b[0;34m)\u001b[0m \u001b[0;34m+\u001b[0m \u001b[0;34m\" Error from \"\u001b[0m \u001b[0;34m+\u001b[0m \u001b[0mURL\u001b[0m \u001b[0;34m+\u001b[0m \u001b[0;34m\" and using headers \"\u001b[0m \u001b[0;34m+\u001b[0m \u001b[0mstr\u001b[0m\u001b[0;34m(\u001b[0m\u001b[0mheaders\u001b[0m\u001b[0;34m)\u001b[0m \u001b[0;34m+\u001b[0m \u001b[0;34m\": \"\u001b[0m \u001b[0;34m+\u001b[0m \u001b[0mr\u001b[0m\u001b[0;34m.\u001b[0m\u001b[0mtext\u001b[0m\u001b[0;34m\u001b[0m\u001b[0;34m\u001b[0m\u001b[0m\n\u001b[0;32m--> 121\u001b[0;31m             \u001b[0;32mraise\u001b[0m \u001b[0mrequests\u001b[0m\u001b[0;34m.\u001b[0m\u001b[0mHTTPError\u001b[0m\u001b[0;34m(\u001b[0m\u001b[0;34m\"HTTP \"\u001b[0m \u001b[0;34m+\u001b[0m \u001b[0mstr\u001b[0m\u001b[0;34m(\u001b[0m\u001b[0mr\u001b[0m\u001b[0;34m.\u001b[0m\u001b[0mstatus_code\u001b[0m\u001b[0;34m)\u001b[0m \u001b[0;34m+\u001b[0m \u001b[0;34m\" Error from \"\u001b[0m \u001b[0;34m+\u001b[0m \u001b[0mURL\u001b[0m \u001b[0;34m+\u001b[0m \u001b[0;34m\"\\nand using headers \"\u001b[0m \u001b[0;34m+\u001b[0m \u001b[0mstr\u001b[0m\u001b[0;34m(\u001b[0m\u001b[0mheaders\u001b[0m\u001b[0;34m)\u001b[0m \u001b[0;34m+\u001b[0m \u001b[0;34m\":\\n\"\u001b[0m \u001b[0;34m+\u001b[0m \u001b[0mr\u001b[0m\u001b[0;34m.\u001b[0m\u001b[0mtext\u001b[0m\u001b[0;34m)\u001b[0m\u001b[0;34m\u001b[0m\u001b[0;34m\u001b[0m\u001b[0m\n\u001b[0m",
            "\u001b[0;31mHTTPError\u001b[0m: HTTP 401 Error from https://api.elsevier.com/content/search/author?query=authlast%28keuskamp%29\nand using headers {'X-ELS-APIKey': '363d49c80080c27f56980ace583c61c4', 'User-Agent': 'elsapy-v0.5.0', 'Accept': 'application/json'}:\n{\"service-error\":{\"status\":{\"statusCode\":\"AUTHORIZATION_ERROR\",\"statusText\":\"The requestor is not authorized to access the requested view or fields of the resource\"}}}"
          ]
        }
      ]
    },
    {
      "cell_type": "code",
      "metadata": {
        "id": "bl5Of6vv_qos"
      },
      "source": [
        ""
      ],
      "execution_count": null,
      "outputs": []
    }
  ]
}
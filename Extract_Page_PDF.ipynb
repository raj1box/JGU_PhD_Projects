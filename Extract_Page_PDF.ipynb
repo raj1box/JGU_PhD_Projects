{
  "nbformat": 4,
  "nbformat_minor": 0,
  "metadata": {
    "colab": {
      "name": "Extract_Page_PDF.ipynb",
      "provenance": [],
      "authorship_tag": "ABX9TyNewKjIRZFZiF7ceypxkssl",
      "include_colab_link": true
    },
    "kernelspec": {
      "name": "python3",
      "display_name": "Python 3"
    },
    "language_info": {
      "name": "python"
    }
  },
  "cells": [
    {
      "cell_type": "markdown",
      "metadata": {
        "id": "view-in-github",
        "colab_type": "text"
      },
      "source": [
        "<a href=\"https://colab.research.google.com/github/raj1box/JGU_PhD_Projects/blob/master/Extract_Page_PDF.ipynb\" target=\"_parent\"><img src=\"https://colab.research.google.com/assets/colab-badge.svg\" alt=\"Open In Colab\"/></a>"
      ]
    },
    {
      "cell_type": "code",
      "metadata": {
        "colab": {
          "base_uri": "https://localhost:8080/"
        },
        "id": "5nRkjhVeHr_h",
        "outputId": "5102411e-a9c7-4525-b295-b012a3227f14"
      },
      "source": [
        "pip install PyPDF2"
      ],
      "execution_count": 4,
      "outputs": [
        {
          "output_type": "stream",
          "text": [
            "Collecting PyPDF2\n",
            "\u001b[?25l  Downloading https://files.pythonhosted.org/packages/b4/01/68fcc0d43daf4c6bdbc6b33cc3f77bda531c86b174cac56ef0ffdb96faab/PyPDF2-1.26.0.tar.gz (77kB)\n",
            "\r\u001b[K     |████▎                           | 10kB 13.3MB/s eta 0:00:01\r\u001b[K     |████████▌                       | 20kB 18.5MB/s eta 0:00:01\r\u001b[K     |████████████▊                   | 30kB 16.4MB/s eta 0:00:01\r\u001b[K     |█████████████████               | 40kB 11.8MB/s eta 0:00:01\r\u001b[K     |█████████████████████▏          | 51kB 8.4MB/s eta 0:00:01\r\u001b[K     |█████████████████████████▍      | 61kB 8.8MB/s eta 0:00:01\r\u001b[K     |█████████████████████████████▋  | 71kB 7.8MB/s eta 0:00:01\r\u001b[K     |████████████████████████████████| 81kB 4.4MB/s \n",
            "\u001b[?25hBuilding wheels for collected packages: PyPDF2\n",
            "  Building wheel for PyPDF2 (setup.py) ... \u001b[?25l\u001b[?25hdone\n",
            "  Created wheel for PyPDF2: filename=PyPDF2-1.26.0-cp37-none-any.whl size=61085 sha256=8e4a4fd8239bb2fad48765634d920b276691e3db3cd865d5564c7296346f13fe\n",
            "  Stored in directory: /root/.cache/pip/wheels/53/84/19/35bc977c8bf5f0c23a8a011aa958acd4da4bbd7a229315c1b7\n",
            "Successfully built PyPDF2\n",
            "Installing collected packages: PyPDF2\n",
            "Successfully installed PyPDF2-1.26.0\n"
          ],
          "name": "stdout"
        }
      ]
    },
    {
      "cell_type": "code",
      "metadata": {
        "colab": {
          "base_uri": "https://localhost:8080/"
        },
        "id": "jPqwiCZSK0Xo",
        "outputId": "444e0ec3-96af-4415-a603-7482ef304ca6"
      },
      "source": [
        "import PyPDF2\n",
        "pdfFileObj = open(r'/content/Test.pdf', 'rb')\n",
        "pdfReader = PyPDF2.PdfFileReader(pdfFileObj)\n",
        "pdfReader.numPages"
      ],
      "execution_count": 11,
      "outputs": [
        {
          "output_type": "execute_result",
          "data": {
            "text/plain": [
              "8"
            ]
          },
          "metadata": {
            "tags": []
          },
          "execution_count": 11
        }
      ]
    },
    {
      "cell_type": "code",
      "metadata": {
        "colab": {
          "base_uri": "https://localhost:8080/",
          "height": 35
        },
        "id": "eyIPF7PlLVe2",
        "outputId": "2f90f2d9-e950-4201-ff0c-f3a25bc2c712"
      },
      "source": [
        "pageObj = pdfReader.getPage(1)\n",
        "pageObj.extractText()"
      ],
      "execution_count": 19,
      "outputs": [
        {
          "output_type": "execute_result",
          "data": {
            "application/vnd.google.colaboratory.intrinsic+json": {
              "type": "string"
            },
            "text/plain": [
              "''"
            ]
          },
          "metadata": {
            "tags": []
          },
          "execution_count": 19
        }
      ]
    },
    {
      "cell_type": "code",
      "metadata": {
        "colab": {
          "base_uri": "https://localhost:8080/"
        },
        "id": "4h47gW6TQuwd",
        "outputId": "bde0b88a-30d2-40a6-cc4b-f276e9f94b58"
      },
      "source": [
        "pip install tika"
      ],
      "execution_count": 21,
      "outputs": [
        {
          "output_type": "stream",
          "text": [
            "Collecting tika\n",
            "  Downloading https://files.pythonhosted.org/packages/96/07/244fbb9c74c0de8a3745cc9f3f496077a29f6418c7cbd90d68fd799574cb/tika-1.24.tar.gz\n",
            "Requirement already satisfied: setuptools in /usr/local/lib/python3.7/dist-packages (from tika) (54.2.0)\n",
            "Requirement already satisfied: requests in /usr/local/lib/python3.7/dist-packages (from tika) (2.23.0)\n",
            "Requirement already satisfied: chardet<4,>=3.0.2 in /usr/local/lib/python3.7/dist-packages (from requests->tika) (3.0.4)\n",
            "Requirement already satisfied: idna<3,>=2.5 in /usr/local/lib/python3.7/dist-packages (from requests->tika) (2.10)\n",
            "Requirement already satisfied: urllib3!=1.25.0,!=1.25.1,<1.26,>=1.21.1 in /usr/local/lib/python3.7/dist-packages (from requests->tika) (1.24.3)\n",
            "Requirement already satisfied: certifi>=2017.4.17 in /usr/local/lib/python3.7/dist-packages (from requests->tika) (2020.12.5)\n",
            "Building wheels for collected packages: tika\n",
            "  Building wheel for tika (setup.py) ... \u001b[?25l\u001b[?25hdone\n",
            "  Created wheel for tika: filename=tika-1.24-cp37-none-any.whl size=32885 sha256=07279dd91e8b58e36d817f3ccb5bb4809ad85cb93c8882f3d71f9b039a65a797\n",
            "  Stored in directory: /root/.cache/pip/wheels/73/9c/f5/0b1b738442fc2a2862bef95b908b374f8e80215550fb2a8975\n",
            "Successfully built tika\n",
            "Installing collected packages: tika\n",
            "Successfully installed tika-1.24\n"
          ],
          "name": "stdout"
        }
      ]
    },
    {
      "cell_type": "code",
      "metadata": {
        "colab": {
          "base_uri": "https://localhost:8080/"
        },
        "id": "kSH9qSmZQycd",
        "outputId": "bd418052-8148-4d6a-9b78-0eb7ed1e94ab"
      },
      "source": [
        "#Function to extract PDF to text from the directory\n",
        "from tika import parser\n",
        "import os\n",
        "\n",
        "\n",
        "def extract_text_from_pdfs_recursively(dir):\n",
        "    for root, dirs, files in os.walk(dir):\n",
        "        for file in files:\n",
        "            path_to_pdf = os.path.join(root, file)\n",
        "            [stem, ext] = os.path.splitext(path_to_pdf)\n",
        "            if ext == '.pdf':\n",
        "                print(\"Processing \" + path_to_pdf)\n",
        "                pdf_contents = parser.from_file(path_to_pdf)\n",
        "                path_to_txt = stem + '.txt'\n",
        "                with open(path_to_txt, 'w') as txt_file:\n",
        "                    print(\"Writing contents to \" + path_to_txt)\n",
        "                    txt_file.write(pdf_contents['content'])\n",
        "\n",
        "\n",
        "if __name__ == \"__main__\":\n",
        "    extract_text_from_pdfs_recursively(os.getcwd())"
      ],
      "execution_count": 22,
      "outputs": [
        {
          "output_type": "stream",
          "text": [
            "2021-04-17 09:57:35,402 [MainThread  ] [INFO ]  Retrieving http://search.maven.org/remotecontent?filepath=org/apache/tika/tika-server/1.24/tika-server-1.24.jar to /tmp/tika-server.jar.\n"
          ],
          "name": "stderr"
        },
        {
          "output_type": "stream",
          "text": [
            "Processing /content/Test.pdf\n"
          ],
          "name": "stdout"
        },
        {
          "output_type": "stream",
          "text": [
            "2021-04-17 09:57:36,190 [MainThread  ] [INFO ]  Retrieving http://search.maven.org/remotecontent?filepath=org/apache/tika/tika-server/1.24/tika-server-1.24.jar.md5 to /tmp/tika-server.jar.md5.\n",
            "2021-04-17 09:57:36,634 [MainThread  ] [WARNI]  Failed to see startup log message; retrying...\n"
          ],
          "name": "stderr"
        },
        {
          "output_type": "stream",
          "text": [
            "Writing contents to /content/Test.txt\n"
          ],
          "name": "stdout"
        }
      ]
    },
    {
      "cell_type": "code",
      "metadata": {
        "id": "7NYExQ7RQ6A9"
      },
      "source": [
        ""
      ],
      "execution_count": null,
      "outputs": []
    }
  ]
}